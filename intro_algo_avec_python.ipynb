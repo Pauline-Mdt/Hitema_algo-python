{
  "nbformat": 4,
  "nbformat_minor": 0,
  "metadata": {
    "colab": {
      "provenance": [],
      "collapsed_sections": []
    },
    "kernelspec": {
      "name": "python3",
      "display_name": "Python 3"
    },
    "language_info": {
      "name": "python"
    }
  },
  "cells": [
    {
      "cell_type": "markdown",
      "source": [
        "# IF / ELIF / ELSE - Exemple d'un abonnement\n",
        "Une salle de sport propose deux abonnements:\n",
        "\n",
        "*   T1 : une entrée à 3euros\n",
        "*   T2 : un abonnemment annuel à 9euros, puis l'entrée à 1euro\n",
        "\n",
        "Faire un programme qui demande l'entrée à l'utilisateur et affiche le meilleur tarif."
      ],
      "metadata": {
        "id": "mtpD4uyWJ0ee"
      }
    },
    {
      "cell_type": "markdown",
      "source": [
        "```\n",
        "LIRE(nombre_entrée)\n",
        "tarif1 = 3 * nombre_entrée\n",
        "tarif2 = 9 + nombre_entrée\n",
        "\n",
        "SI tarif1<tarif2\n",
        "    AFFICHE(\"Le tarif 1 est moins cher\")\n",
        "SINON\n",
        "    AFFICHE(\"Le tarif 2 est moins cher\")\n",
        "```"
      ],
      "metadata": {
        "id": "E5HjX2MHa-uF"
      }
    },
    {
      "cell_type": "code",
      "source": [
        "nombre = int(input(\"Saisir le nombre d'entrée : \"))\n",
        "t1 = 3 * nombre\n",
        "t2 = 9 + nombre\n",
        "\n",
        "if t1 < t2 :\n",
        "    print(\"Le tarif 1 est moins cher\")\n",
        "else :\n",
        "    print(\"Le tarif 2 est moins cher\")"
      ],
      "metadata": {
        "colab": {
          "base_uri": "https://localhost:8080/"
        },
        "id": "M32J66QVMvJF",
        "outputId": "81b83d59-dfba-4659-9715-e39e570f438f"
      },
      "execution_count": 4,
      "outputs": [
        {
          "output_type": "stream",
          "name": "stdout",
          "text": [
            "Saisir le nombre d'entrée : 2\n",
            "Le tarif 1 est moins cher\n"
          ]
        }
      ]
    },
    {
      "cell_type": "markdown",
      "source": [
        "# Algorithmes\n",
        "\n",
        "## 2.1 Condition et produit\n",
        "Ecrire un algorithme qui demande deux nombres a l’utilisateur et l’informe ensuite si leur produit est négatif ou positif (on laisse de côté le cas où le produit est  nul).   Attention  toute  fois  :  on  ne  doit  pas  calculer  le  produit  des  deux nombres."
      ],
      "metadata": {
        "id": "JzIqkIaLXCBI"
      }
    },
    {
      "cell_type": "markdown",
      "source": [
        "\n",
        "```\n",
        "LIRE(nombre1)\n",
        "LIRE(nombre2)\n",
        "\n",
        "SI (nombre1 < 0 ET nombre2 < 0) OU (nombre1 > 0 ET nombre2 > 0)\n",
        "    AFFICHE('Positif')\n",
        "SINON SI nombre1 == 0 OU nombre2 == 0\n",
        "    AFFICHE('Nul')\n",
        "SINON\n",
        "    AFFICHE('Négatif')\n",
        "```\n"
      ],
      "metadata": {
        "id": "De4wSOgia0Mi"
      }
    },
    {
      "cell_type": "code",
      "source": [
        "n1 = int(input('Saisir le nombre 1 : '))\n",
        "n2 = int(input('Saisir le nombre 2 : '))\n",
        "\n",
        "if (n1 > 0 and n2 > 0) or (n1 < 0 and n2 < 0):\n",
        "    print('Produit positif')\n",
        "elif n1 == 0 or n2 == 0:\n",
        "    print('Produit nul')\n",
        "else :\n",
        "    print('Produit négatif')"
      ],
      "metadata": {
        "colab": {
          "base_uri": "https://localhost:8080/"
        },
        "id": "4W0hXjnFYw4Z",
        "outputId": "1d1411e2-72b5-43ce-899a-5210058a3021"
      },
      "execution_count": 7,
      "outputs": [
        {
          "output_type": "stream",
          "name": "stdout",
          "text": [
            "Nombre 1 : -1\n",
            "Nombre 2 : 5\n",
            "Produit négatif\n"
          ]
        }
      ]
    },
    {
      "cell_type": "markdown",
      "source": [
        "## 2.2 Additivité\n",
        "\n",
        "Ecrire un algorithme qui demande un nombre de départ, et qui calcule la somme\n",
        "des entiers jusqu'à ce nombre. Par exemple, si l'on entre 5, le programme doit\n",
        "calculer : 1 + 2 + 3 + 4 + 5 = 15."
      ],
      "metadata": {
        "id": "KZUodFtBbLtX"
      }
    },
    {
      "cell_type": "markdown",
      "source": [
        "```\n",
        "LIRE(nombre_départ)\n",
        "somme = 0\n",
        "\n",
        "POUR valeur ALLANT DE 1 A nombre_départ\n",
        "    somme += valeur\n",
        "FIN POUR\n",
        "AFFICHE(somme)\n",
        "```"
      ],
      "metadata": {
        "id": "TVi4sw7HbYBx"
      }
    },
    {
      "cell_type": "code",
      "source": [
        "nombre = int(input('Saisir un nombre : '))\n",
        "somme = 0\n",
        "\n",
        "for valeur in range(nombre):\n",
        "    somme += valeur\n",
        "\n",
        "print('Somme des entiers de 1 à {} = {}'.format(nombre, somme))"
      ],
      "metadata": {
        "colab": {
          "base_uri": "https://localhost:8080/"
        },
        "id": "D3wmXlHbcy2N",
        "outputId": "e61be523-e3c1-403b-81b1-7969c0bc42bd"
      },
      "execution_count": 13,
      "outputs": [
        {
          "output_type": "stream",
          "name": "stdout",
          "text": [
            "Saisir un nombre : 5\n",
            "Somme des entiers de 1 à 5 = 15\n"
          ]
        }
      ]
    }
  ]
}