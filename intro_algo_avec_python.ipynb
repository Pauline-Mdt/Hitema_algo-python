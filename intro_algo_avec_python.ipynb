{
  "nbformat": 4,
  "nbformat_minor": 0,
  "metadata": {
    "colab": {
      "provenance": [],
      "collapsed_sections": [],
      "authorship_tag": "ABX9TyN86iFQHp/fJLiAOocR0PYS"
    },
    "kernelspec": {
      "name": "python3",
      "display_name": "Python 3"
    },
    "language_info": {
      "name": "python"
    }
  },
  "cells": [
    {
      "cell_type": "markdown",
      "source": [
        "# IF / ELIF / ELSE - Exemple d'un abonnement\n",
        "Une salle de sport propose deux abonnements:\n",
        "\n",
        "*   T1 : une entrée à 3euros\n",
        "*   T2 : un abonnemment annuel à 9euros, puis l'entrée à 1euro\n",
        "\n",
        "Faire un programme qui demande l'entrée à l'utilisateur et affiche le meilleur tarif."
      ],
      "metadata": {
        "id": "mtpD4uyWJ0ee"
      }
    },
    {
      "cell_type": "markdown",
      "source": [
        "```\n",
        "LIRE(nombre_entrée)\n",
        "tarif1 = 3 * nombre_entrée\n",
        "tarif2 = 9 + nombre_entrée\n",
        "\n",
        "SI tarif1<tarif2\n",
        "    AFFICHE(\"Le tarif 1 est moins cher\")\n",
        "SINON\n",
        "    AFFICHE(\"Le tarif 2 est moins cher\")\n",
        "```"
      ],
      "metadata": {
        "id": "E5HjX2MHa-uF"
      }
    },
    {
      "cell_type": "code",
      "source": [
        "nombre = int(input(\"Saisir le nombre d'entrée : \"))\n",
        "tarif1 = 3 * nombre\n",
        "tarif2 = 9 + nombre\n",
        "\n",
        "if tarif1 < tarif2 :\n",
        "    print(\"Le tarif 1 est moins cher\")\n",
        "else :\n",
        "    print(\"Le tarif 2 est moins cher\")"
      ],
      "metadata": {
        "colab": {
          "base_uri": "https://localhost:8080/"
        },
        "id": "M32J66QVMvJF",
        "outputId": "81b83d59-dfba-4659-9715-e39e570f438f"
      },
      "execution_count": null,
      "outputs": [
        {
          "output_type": "stream",
          "name": "stdout",
          "text": [
            "Saisir le nombre d'entrée : 2\n",
            "Le tarif 1 est moins cher\n"
          ]
        }
      ]
    },
    {
      "cell_type": "markdown",
      "source": [
        "# Algorithmes\n",
        "\n",
        "## 2.1 Condition et produit\n",
        "Ecrire un algorithme qui demande deux nombres a l’utilisateur et l’informe ensuite si leur produit est négatif ou positif (on laisse de côté le cas où le produit est  nul).   Attention  toute  fois  :  on  ne  doit  pas  calculer  le  produit  des  deux nombres."
      ],
      "metadata": {
        "id": "JzIqkIaLXCBI"
      }
    },
    {
      "cell_type": "markdown",
      "source": [
        "\n",
        "```\n",
        "LIRE(nombre1)\n",
        "LIRE(nombre2)\n",
        "\n",
        "SI (nombre1 < 0 ET nombre2 < 0) OU (nombre1 > 0 ET nombre2 > 0)\n",
        "    AFFICHE('Positif')\n",
        "SINON SI nombre1 == 0 OU nombre2 == 0\n",
        "    AFFICHE('Nul')\n",
        "SINON\n",
        "    AFFICHE('Négatif')\n",
        "```\n"
      ],
      "metadata": {
        "id": "De4wSOgia0Mi"
      }
    },
    {
      "cell_type": "code",
      "source": [
        "nombre1 = int(input('Saisir le nombre 1 : '))\n",
        "nombre1 = int(input('Saisir le nombre 2 : '))\n",
        "\n",
        "if (nombre1 > 0 and nombre1 > 0) or (nombre1 < 0 and nombre1 < 0):\n",
        "    print('Produit positif')\n",
        "elif nombre1 == 0 or nombre1 == 0:\n",
        "    print('Produit nul')\n",
        "else :\n",
        "    print('Produit négatif')"
      ],
      "metadata": {
        "colab": {
          "base_uri": "https://localhost:8080/"
        },
        "id": "4W0hXjnFYw4Z",
        "outputId": "1d1411e2-72b5-43ce-899a-5210058a3021"
      },
      "execution_count": null,
      "outputs": [
        {
          "output_type": "stream",
          "name": "stdout",
          "text": [
            "Nombre 1 : -1\n",
            "Nombre 2 : 5\n",
            "Produit négatif\n"
          ]
        }
      ]
    },
    {
      "cell_type": "markdown",
      "source": [
        "## 2.2 Additivité\n",
        "\n",
        "Ecrire un algorithme qui demande un nombre de départ, et qui calcule la somme\n",
        "des entiers jusqu'à ce nombre. Par exemple, si l'on entre 5, le programme doit\n",
        "calculer : 1 + 2 + 3 + 4 + 5 = 15."
      ],
      "metadata": {
        "id": "KZUodFtBbLtX"
      }
    },
    {
      "cell_type": "markdown",
      "source": [
        "```\n",
        "LIRE(nombre_départ)\n",
        "somme = 0\n",
        "i = 1\n",
        "\n",
        "TANT QUE i <= A nombre_départ\n",
        "    somme += i\n",
        "    i += 1\n",
        "FIN TANT QUE\n",
        "AFFICHE(somme)\n",
        "```"
      ],
      "metadata": {
        "id": "TVi4sw7HbYBx"
      }
    },
    {
      "cell_type": "code",
      "source": [
        "nombre = int(input('Saisir un nombre : '))\n",
        "somme = 0\n",
        "i = 1\n",
        "\n",
        "while i <= nombre :\n",
        "    somme += i\n",
        "    i += 1\n",
        "\n",
        "print('Somme des entiers de 1 à {} = {}'.format(nombre, somme))"
      ],
      "metadata": {
        "colab": {
          "base_uri": "https://localhost:8080/"
        },
        "id": "D3wmXlHbcy2N",
        "outputId": "9512ebd9-0d3c-4123-e457-a29dff548dd5"
      },
      "execution_count": null,
      "outputs": [
        {
          "output_type": "stream",
          "name": "stdout",
          "text": [
            "Saisir un nombre : 5\n",
            "Somme des entiers de 1 à 5 = 15\n"
          ]
        }
      ]
    },
    {
      "cell_type": "markdown",
      "source": [
        "## 2.3 Somme des éléments d'un tableau\n",
        "\n",
        "Ecrire un algorithme calculant la somme des valeurs d'un tableau (on suppose\n",
        "bien sur que le tableau a été préalablement saisi)."
      ],
      "metadata": {
        "id": "1S7Tf6UIEyDO"
      }
    },
    {
      "cell_type": "markdown",
      "source": [
        "```\n",
        "LIRE(tableau)\n",
        "somme = 0\n",
        "\n",
        "POUR CHAQUE valeur DE tableau\n",
        "    somme += valeur\n",
        "FIN POUR\n",
        "AFFICHE(somme)\n",
        "```"
      ],
      "metadata": {
        "id": "HmS6fECBE63p"
      }
    },
    {
      "cell_type": "code",
      "source": [
        "tableau = [32, 3, 79, 15, 53]\n",
        "somme = 0\n",
        "\n",
        "for valeur in tableau :\n",
        "    somme += valeur\n",
        "\n",
        "print('Somme des valeurs du tableau = {}'.format(somme))"
      ],
      "metadata": {
        "colab": {
          "base_uri": "https://localhost:8080/"
        },
        "id": "Pz-5dBEmG6CV",
        "outputId": "ecbf33db-2ddd-48fd-d381-fdf82ab7c351"
      },
      "execution_count": null,
      "outputs": [
        {
          "output_type": "stream",
          "name": "stdout",
          "text": [
            "Somme des valeurs du tableau = 182\n"
          ]
        }
      ]
    },
    {
      "cell_type": "markdown",
      "source": [
        "## 2.4 FacProduct\n",
        "\n",
        "Toujours à partir de deux tableaux précédemment saisis, écrire un algorithme\n",
        "qui calcule le 'FacProduct' des deux tableaux. Pour calculer le 'FacProduct', il\n",
        "faut multiplier deux à deux les éléments des tableaux et additionner le tout (le\n",
        "résultat final doit donc est un réel)."
      ],
      "metadata": {
        "id": "FqsJdIwzJXTr"
      }
    },
    {
      "cell_type": "markdown",
      "source": [
        "```\n",
        "LIRE(tableau1)\n",
        "LIRE(tableau2)\n",
        "somme_produits = 0\n",
        "\n",
        "POUR CHAQUE valeur1 DE tableau1\n",
        "    POUR CHAQUE valeur2 DE tableau2\n",
        "        somme_produits += valeur1 * valeur2\n",
        "    FIN POUR\n",
        "FIN POUR\n",
        "AFFICHE(somme)\n",
        "```"
      ],
      "metadata": {
        "id": "u5joaHR0Jlkd"
      }
    },
    {
      "cell_type": "code",
      "source": [
        "tableau1 = [1, 2, 3]\n",
        "tableau2 = [4, 5, 6]\n",
        "somme = 0\n",
        "\n",
        "for i in tableau1 :\n",
        "    for j in tableau2 :\n",
        "        somme += i * j\n",
        "\n",
        "print('Somme du FacProduct des 2 tableaux = {}'.format(somme))"
      ],
      "metadata": {
        "colab": {
          "base_uri": "https://localhost:8080/"
        },
        "id": "hdsIYwCTMuHc",
        "outputId": "e5ebb013-3dc7-4ed4-a23d-f8e9cc29a676"
      },
      "execution_count": null,
      "outputs": [
        {
          "output_type": "stream",
          "name": "stdout",
          "text": [
            "Somme du FacProduct des 2 tableaux = 90\n"
          ]
        }
      ]
    },
    {
      "cell_type": "markdown",
      "source": [
        "## 2.5 Le plus grand\n",
        "\n",
        "Ecrire un algorithme permettant à l'utilisateur de renvoyer la plus grande valeur\n",
        "du tableau passer en input en précisant quelle position elle occupe dans le\n",
        "tableau."
      ],
      "metadata": {
        "id": "DG0dE4C4OXde"
      }
    },
    {
      "cell_type": "markdown",
      "source": [
        "```\n",
        "LIRE(tableau)\n",
        "valeur_max = tableau[0]\n",
        "\n",
        "POUR CHAQUE valeur DE tableau\n",
        "    SI valeur > valeur_max\n",
        "        valeur_max = valeur\n",
        "    FIN SI\n",
        "FIN POUR\n",
        "AFFICHE(valeur_max)\n",
        "```"
      ],
      "metadata": {
        "id": "54EToiT4Oeu4"
      }
    },
    {
      "cell_type": "code",
      "source": [
        "#tableau = [55, 63, 75, 14, 16, 36]\n",
        "tableau = [-55, -63, -75, -14, -16, -36]\n",
        "max = tableau[0]\n",
        "\n",
        "for valeur in tableau :\n",
        "    if valeur > max :\n",
        "        max = valeur\n",
        "\n",
        "print('Valeur la plus grand du tableau = {}'.format(max))"
      ],
      "metadata": {
        "colab": {
          "base_uri": "https://localhost:8080/"
        },
        "id": "R1iihsB8QehB",
        "outputId": "4f231e40-d375-43eb-a068-40835afa3361"
      },
      "execution_count": null,
      "outputs": [
        {
          "output_type": "stream",
          "name": "stdout",
          "text": [
            "Valeur la plus grand du tableau = -14\n"
          ]
        }
      ]
    },
    {
      "cell_type": "markdown",
      "source": [
        "## 2.6 Plus grand que la moyenne\n",
        "\n",
        "Ecrire un algorithme permettant à l'utilisateur de renvoyer le nombre de valeur\n",
        "supérieures à la moyenne d'un tableau passé en input de taille n."
      ],
      "metadata": {
        "id": "I_RXiKfvRxpS"
      }
    },
    {
      "cell_type": "markdown",
      "source": [
        "```\n",
        "LIRE(tableau)\n",
        "moyenne = SOMME(tableau)/LONGUEUR(tableau)\n",
        "nombre_valeur = 0\n",
        "\n",
        "POUR CHAQUE valeur DE tableau\n",
        "    SI valeur > moyenne\n",
        "        nombre_valeur += 1\n",
        "    FIN SI\n",
        "FIN POUR\n",
        "AFFICHE(nombre_valeur)\n",
        "```"
      ],
      "metadata": {
        "id": "vFFxPA8TR6GA"
      }
    },
    {
      "cell_type": "code",
      "source": [
        "tableau = [5, 40, 33, 62, 31]\n",
        "moyenne = sum(tableau)/len(tableau)\n",
        "nombre = 0\n",
        "\n",
        "for valeur in tableau :\n",
        "    if valeur > moyenne :\n",
        "        nombre += 1\n",
        "\n",
        "print('Nombre de valeur supérieures à la moyenne {} = {}'.format(moyenne, nombre))"
      ],
      "metadata": {
        "colab": {
          "base_uri": "https://localhost:8080/"
        },
        "id": "JciB27h2TIB9",
        "outputId": "ba6f3979-20ab-4988-c78b-ea4af0bd1d76"
      },
      "execution_count": null,
      "outputs": [
        {
          "output_type": "stream",
          "name": "stdout",
          "text": [
            "Nombre de valeur supérieures à la moyenne 34.2 = 2\n"
          ]
        }
      ]
    },
    {
      "cell_type": "markdown",
      "source": [
        "## 2.7 Multiplier des vecteurs\n",
        "\n",
        "Ecrire un algorithme permettant d'effectuer la multiplication de deux vecteurs\n",
        "de taille N connue à l'avance et d'afficher le résultat."
      ],
      "metadata": {
        "id": "I6eDoTb-VGYA"
      }
    },
    {
      "cell_type": "markdown",
      "source": [
        "```\n",
        "LIRE(vecteur1)\n",
        "LIRE(vecteur2)\n",
        "produit_vecteur = 0\n",
        "i = 0\n",
        "\n",
        "SI LONGUEUR(vecteur1) == LONGUEUR(vecteur2)\n",
        "    TANT QUE i < LONGUEUR(vecteur1)\n",
        "        produit_vecteur += vecteur1[i] * vecteur2[i]\n",
        "        i += 1\n",
        "    FIN TANT QUE\n",
        "FIN SI\n",
        "AFFICHE(produit_vecteur)\n",
        "```"
      ],
      "metadata": {
        "id": "_K2AYTUgVdrM"
      }
    },
    {
      "cell_type": "code",
      "source": [
        "vecteur1 = [5, -2]\n",
        "vecteur2 = [7, -6]\n",
        "produit = 0\n",
        "i = 0\n",
        "\n",
        "if len(vecteur1) == len(vecteur2) :\n",
        "    while i < len(vecteur1) :\n",
        "        produit += vecteur1[i] * vecteur2[i]\n",
        "        i += 1\n",
        "\n",
        "print('Résultat de la multiplication des vecteurs = {}'.format(produit))"
      ],
      "metadata": {
        "id": "Cpp6Nqhcb1s-",
        "colab": {
          "base_uri": "https://localhost:8080/"
        },
        "outputId": "48524db5-0ff3-4c68-c056-c83b524126a5"
      },
      "execution_count": 19,
      "outputs": [
        {
          "output_type": "stream",
          "name": "stdout",
          "text": [
            "Résultat de la multiplication des vecteurs = 47\n"
          ]
        }
      ]
    },
    {
      "cell_type": "markdown",
      "source": [
        "## 2.8 Tris\n",
        "\n",
        "Ecrire un algorithme permettant de trier un tableau de taille n."
      ],
      "metadata": {
        "id": "tT8lsHAFde_s"
      }
    },
    {
      "cell_type": "markdown",
      "source": [
        "```\n",
        "LIRE(tableau)\n",
        "tableau_trié = []\n",
        "\n",
        "TANT QUE LONGUEUR(tableau) > 0\n",
        "    valeur_min = tableau[0]\n",
        "    POUR CHAQUE valeur DE tableau\n",
        "        SI valeur < valeur_min\n",
        "            valeur_min = valeur\n",
        "        FIN SI\n",
        "    FIN POUR\n",
        "    AJOUTE valeur_min A tableau_trié\n",
        "    SUPPRIME valeur_min DE tableau\n",
        "FIN TANT QUE\n",
        "AFFICHE(tableau_trié)\n",
        "```"
      ],
      "metadata": {
        "id": "qnegQw6ndklV"
      }
    },
    {
      "cell_type": "code",
      "source": [
        "tableau = [55, 63, 75, 14, 16, 36]\n",
        "tri = []\n",
        "\n",
        "while len(tableau) > 0 :\n",
        "    min = tableau[0]\n",
        "    index = 0\n",
        "    for i in range(len(tableau)) :\n",
        "        if tableau[i] < min :\n",
        "            min = tableau[i]\n",
        "            index = i\n",
        "    tri.append(min)\n",
        "    tableau.pop(index)\n",
        "\n",
        "print('Tableau initial = {} \\n Tableau trié = {}'.format(tableau, tri))"
      ],
      "metadata": {
        "colab": {
          "base_uri": "https://localhost:8080/"
        },
        "id": "IYruDld_iw0A",
        "outputId": "abe2e95a-eaa4-43ba-99dd-7e2154ee37c7"
      },
      "execution_count": 30,
      "outputs": [
        {
          "output_type": "stream",
          "name": "stdout",
          "text": [
            "Tableau initial = [] \n",
            " Tableau trié = [14, 16, 36, 55, 63, 75]\n"
          ]
        }
      ]
    },
    {
      "cell_type": "markdown",
      "source": [
        "## 2.9 Factorielle\n",
        "\n",
        "Ecrire un algorithme qui demande un nombre de départ, et qui calcule sa\n",
        "factorielle. On rappelle qu'on calcule factorielle n tel que : n! =\n",
        "Q\n",
        "1in i =\n",
        "1 x 2 x 3 x ... x (n - 1) x n. Par exemple 4! = 1 x 2 x 3 x 4."
      ],
      "metadata": {
        "id": "ZX-VrquZlpHU"
      }
    },
    {
      "cell_type": "markdown",
      "source": [
        "```\n",
        "LIRE(nombre_départ)\n",
        "produit = 1\n",
        "i = 1\n",
        "\n",
        "TANT QUE i <= A nombre_départ\n",
        "    produit *= i\n",
        "    i += 1\n",
        "FIN TANT QUE\n",
        "AFFICHE(produit)\n",
        "```"
      ],
      "metadata": {
        "id": "MtreZZ5bnXnu"
      }
    },
    {
      "cell_type": "code",
      "source": [
        "nombre = int(input('Saisir un nombre : '))\n",
        "produit = 1\n",
        "i = 1\n",
        "\n",
        "while i <= nombre :\n",
        "    produit *= i\n",
        "    i += 1\n",
        "\n",
        "print('Factorielle de {} = {}'.format(nombre, produit))"
      ],
      "metadata": {
        "colab": {
          "base_uri": "https://localhost:8080/"
        },
        "id": "M9PRDo30nl5u",
        "outputId": "ecda33c7-211e-4fa7-8ccf-091951de00c2"
      },
      "execution_count": 35,
      "outputs": [
        {
          "output_type": "stream",
          "name": "stdout",
          "text": [
            "Saisir un nombre : 4\n",
            "Factorielle de 4 = 24\n"
          ]
        }
      ]
    },
    {
      "cell_type": "markdown",
      "source": [
        "## 2.10 La multiplication matricielle\n",
        "\n",
        "Ecrire un algorithme qui prend deux matrices carrées A et B de taille n et qui\n",
        "renvoie un élément ci,j (l'élément de la ligne i colonne j) de la matrice C tel\n",
        "que, A x B = C."
      ],
      "metadata": {
        "id": "GJHbZFhjoOSu"
      }
    }
  ]
}